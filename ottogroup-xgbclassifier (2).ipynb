{
 "cells": [
  {
   "attachments": {},
   "cell_type": "markdown",
   "id": "26e8a7d2",
   "metadata": {},
   "source": [
    "### Here is the predictive model to distinguish between the main product categories in the dataset provided by the Otto Group company.\n",
    "### Provided dataset has 93 features and more than 2000,000 products.\n",
    "### For reducing high dimensionality, Linear Discriminant Analysis, a method of Dimensionality Reduction is used.\n",
    "### This model is built on the XG Boost Classifier algorithm, a popular and efficient algorithm which attempts to predict the target variable accurately.\n",
    "\n",
    "\n",
    "\n",
    "#### Importing Libraries..."
   ]
  },
  {
   "cell_type": "code",
   "execution_count": 2,
   "id": "c34b3ef8",
   "metadata": {
    "execution": {
     "iopub.execute_input": "2023-03-05T12:52:39.690047Z",
     "iopub.status.busy": "2023-03-05T12:52:39.689050Z",
     "iopub.status.idle": "2023-03-05T12:52:41.045961Z",
     "shell.execute_reply": "2023-03-05T12:52:41.044549Z"
    },
    "papermill": {
     "duration": 1.369209,
     "end_time": "2023-03-05T12:52:41.049052",
     "exception": false,
     "start_time": "2023-03-05T12:52:39.679843",
     "status": "completed"
    },
    "tags": []
   },
   "outputs": [],
   "source": [
    "import pandas as pd\n",
    "import numpy as np\n",
    "import seaborn as sns\n",
    "import matplotlib.pyplot as plt"
   ]
  },
  {
   "attachments": {},
   "cell_type": "markdown",
   "id": "017de44f",
   "metadata": {},
   "source": [
    "#### Loading data..."
   ]
  },
  {
   "cell_type": "code",
   "execution_count": 3,
   "id": "6456e9e3",
   "metadata": {
    "execution": {
     "iopub.execute_input": "2023-03-05T12:52:41.067539Z",
     "iopub.status.busy": "2023-03-05T12:52:41.067039Z",
     "iopub.status.idle": "2023-03-05T12:52:41.725312Z",
     "shell.execute_reply": "2023-03-05T12:52:41.723868Z"
    },
    "papermill": {
     "duration": 0.670737,
     "end_time": "2023-03-05T12:52:41.728172",
     "exception": false,
     "start_time": "2023-03-05T12:52:41.057435",
     "status": "completed"
    },
    "tags": []
   },
   "outputs": [
    {
     "data": {
      "text/html": [
       "<div>\n",
       "<style scoped>\n",
       "    .dataframe tbody tr th:only-of-type {\n",
       "        vertical-align: middle;\n",
       "    }\n",
       "\n",
       "    .dataframe tbody tr th {\n",
       "        vertical-align: top;\n",
       "    }\n",
       "\n",
       "    .dataframe thead th {\n",
       "        text-align: right;\n",
       "    }\n",
       "</style>\n",
       "<table border=\"1\" class=\"dataframe\">\n",
       "  <thead>\n",
       "    <tr style=\"text-align: right;\">\n",
       "      <th></th>\n",
       "      <th>id</th>\n",
       "      <th>feat_1</th>\n",
       "      <th>feat_2</th>\n",
       "      <th>feat_3</th>\n",
       "      <th>feat_4</th>\n",
       "      <th>feat_5</th>\n",
       "      <th>feat_6</th>\n",
       "      <th>feat_7</th>\n",
       "      <th>feat_8</th>\n",
       "      <th>feat_9</th>\n",
       "      <th>...</th>\n",
       "      <th>feat_85</th>\n",
       "      <th>feat_86</th>\n",
       "      <th>feat_87</th>\n",
       "      <th>feat_88</th>\n",
       "      <th>feat_89</th>\n",
       "      <th>feat_90</th>\n",
       "      <th>feat_91</th>\n",
       "      <th>feat_92</th>\n",
       "      <th>feat_93</th>\n",
       "      <th>target</th>\n",
       "    </tr>\n",
       "  </thead>\n",
       "  <tbody>\n",
       "    <tr>\n",
       "      <th>0</th>\n",
       "      <td>1</td>\n",
       "      <td>1</td>\n",
       "      <td>0</td>\n",
       "      <td>0</td>\n",
       "      <td>0</td>\n",
       "      <td>0</td>\n",
       "      <td>0</td>\n",
       "      <td>0</td>\n",
       "      <td>0</td>\n",
       "      <td>0</td>\n",
       "      <td>...</td>\n",
       "      <td>1</td>\n",
       "      <td>0</td>\n",
       "      <td>0</td>\n",
       "      <td>0</td>\n",
       "      <td>0</td>\n",
       "      <td>0</td>\n",
       "      <td>0</td>\n",
       "      <td>0</td>\n",
       "      <td>0</td>\n",
       "      <td>Class_1</td>\n",
       "    </tr>\n",
       "    <tr>\n",
       "      <th>1</th>\n",
       "      <td>2</td>\n",
       "      <td>0</td>\n",
       "      <td>0</td>\n",
       "      <td>0</td>\n",
       "      <td>0</td>\n",
       "      <td>0</td>\n",
       "      <td>0</td>\n",
       "      <td>0</td>\n",
       "      <td>1</td>\n",
       "      <td>0</td>\n",
       "      <td>...</td>\n",
       "      <td>0</td>\n",
       "      <td>0</td>\n",
       "      <td>0</td>\n",
       "      <td>0</td>\n",
       "      <td>0</td>\n",
       "      <td>0</td>\n",
       "      <td>0</td>\n",
       "      <td>0</td>\n",
       "      <td>0</td>\n",
       "      <td>Class_1</td>\n",
       "    </tr>\n",
       "    <tr>\n",
       "      <th>2</th>\n",
       "      <td>3</td>\n",
       "      <td>0</td>\n",
       "      <td>0</td>\n",
       "      <td>0</td>\n",
       "      <td>0</td>\n",
       "      <td>0</td>\n",
       "      <td>0</td>\n",
       "      <td>0</td>\n",
       "      <td>1</td>\n",
       "      <td>0</td>\n",
       "      <td>...</td>\n",
       "      <td>0</td>\n",
       "      <td>0</td>\n",
       "      <td>0</td>\n",
       "      <td>0</td>\n",
       "      <td>0</td>\n",
       "      <td>0</td>\n",
       "      <td>0</td>\n",
       "      <td>0</td>\n",
       "      <td>0</td>\n",
       "      <td>Class_1</td>\n",
       "    </tr>\n",
       "    <tr>\n",
       "      <th>3</th>\n",
       "      <td>4</td>\n",
       "      <td>1</td>\n",
       "      <td>0</td>\n",
       "      <td>0</td>\n",
       "      <td>1</td>\n",
       "      <td>6</td>\n",
       "      <td>1</td>\n",
       "      <td>5</td>\n",
       "      <td>0</td>\n",
       "      <td>0</td>\n",
       "      <td>...</td>\n",
       "      <td>0</td>\n",
       "      <td>1</td>\n",
       "      <td>2</td>\n",
       "      <td>0</td>\n",
       "      <td>0</td>\n",
       "      <td>0</td>\n",
       "      <td>0</td>\n",
       "      <td>0</td>\n",
       "      <td>0</td>\n",
       "      <td>Class_1</td>\n",
       "    </tr>\n",
       "    <tr>\n",
       "      <th>4</th>\n",
       "      <td>5</td>\n",
       "      <td>0</td>\n",
       "      <td>0</td>\n",
       "      <td>0</td>\n",
       "      <td>0</td>\n",
       "      <td>0</td>\n",
       "      <td>0</td>\n",
       "      <td>0</td>\n",
       "      <td>0</td>\n",
       "      <td>0</td>\n",
       "      <td>...</td>\n",
       "      <td>1</td>\n",
       "      <td>0</td>\n",
       "      <td>0</td>\n",
       "      <td>0</td>\n",
       "      <td>0</td>\n",
       "      <td>1</td>\n",
       "      <td>0</td>\n",
       "      <td>0</td>\n",
       "      <td>0</td>\n",
       "      <td>Class_1</td>\n",
       "    </tr>\n",
       "  </tbody>\n",
       "</table>\n",
       "<p>5 rows × 95 columns</p>\n",
       "</div>"
      ],
      "text/plain": [
       "   id  feat_1  feat_2  feat_3  feat_4  feat_5  feat_6  feat_7  feat_8  feat_9  \\\n",
       "0   1       1       0       0       0       0       0       0       0       0   \n",
       "1   2       0       0       0       0       0       0       0       1       0   \n",
       "2   3       0       0       0       0       0       0       0       1       0   \n",
       "3   4       1       0       0       1       6       1       5       0       0   \n",
       "4   5       0       0       0       0       0       0       0       0       0   \n",
       "\n",
       "   ...  feat_85  feat_86  feat_87  feat_88  feat_89  feat_90  feat_91  \\\n",
       "0  ...        1        0        0        0        0        0        0   \n",
       "1  ...        0        0        0        0        0        0        0   \n",
       "2  ...        0        0        0        0        0        0        0   \n",
       "3  ...        0        1        2        0        0        0        0   \n",
       "4  ...        1        0        0        0        0        1        0   \n",
       "\n",
       "   feat_92  feat_93   target  \n",
       "0        0        0  Class_1  \n",
       "1        0        0  Class_1  \n",
       "2        0        0  Class_1  \n",
       "3        0        0  Class_1  \n",
       "4        0        0  Class_1  \n",
       "\n",
       "[5 rows x 95 columns]"
      ]
     },
     "execution_count": 3,
     "metadata": {},
     "output_type": "execute_result"
    }
   ],
   "source": [
    "data = pd.read_csv('/kaggle/input/otto-group-product-classification-challenge/train.csv')\n",
    "data.head()"
   ]
  },
  {
   "cell_type": "code",
   "execution_count": 4,
   "id": "e508cf48",
   "metadata": {
    "execution": {
     "iopub.execute_input": "2023-03-05T12:52:41.746138Z",
     "iopub.status.busy": "2023-03-05T12:52:41.745704Z",
     "iopub.status.idle": "2023-03-05T12:52:41.754149Z",
     "shell.execute_reply": "2023-03-05T12:52:41.752665Z"
    },
    "papermill": {
     "duration": 0.020942,
     "end_time": "2023-03-05T12:52:41.757111",
     "exception": false,
     "start_time": "2023-03-05T12:52:41.736169",
     "status": "completed"
    },
    "tags": []
   },
   "outputs": [
    {
     "data": {
      "text/plain": [
       "Index(['id', 'feat_1', 'feat_2', 'feat_3', 'feat_4', 'feat_5', 'feat_6',\n",
       "       'feat_7', 'feat_8', 'feat_9', 'feat_10', 'feat_11', 'feat_12',\n",
       "       'feat_13', 'feat_14', 'feat_15', 'feat_16', 'feat_17', 'feat_18',\n",
       "       'feat_19', 'feat_20', 'feat_21', 'feat_22', 'feat_23', 'feat_24',\n",
       "       'feat_25', 'feat_26', 'feat_27', 'feat_28', 'feat_29', 'feat_30',\n",
       "       'feat_31', 'feat_32', 'feat_33', 'feat_34', 'feat_35', 'feat_36',\n",
       "       'feat_37', 'feat_38', 'feat_39', 'feat_40', 'feat_41', 'feat_42',\n",
       "       'feat_43', 'feat_44', 'feat_45', 'feat_46', 'feat_47', 'feat_48',\n",
       "       'feat_49', 'feat_50', 'feat_51', 'feat_52', 'feat_53', 'feat_54',\n",
       "       'feat_55', 'feat_56', 'feat_57', 'feat_58', 'feat_59', 'feat_60',\n",
       "       'feat_61', 'feat_62', 'feat_63', 'feat_64', 'feat_65', 'feat_66',\n",
       "       'feat_67', 'feat_68', 'feat_69', 'feat_70', 'feat_71', 'feat_72',\n",
       "       'feat_73', 'feat_74', 'feat_75', 'feat_76', 'feat_77', 'feat_78',\n",
       "       'feat_79', 'feat_80', 'feat_81', 'feat_82', 'feat_83', 'feat_84',\n",
       "       'feat_85', 'feat_86', 'feat_87', 'feat_88', 'feat_89', 'feat_90',\n",
       "       'feat_91', 'feat_92', 'feat_93', 'target'],\n",
       "      dtype='object')"
      ]
     },
     "execution_count": 4,
     "metadata": {},
     "output_type": "execute_result"
    }
   ],
   "source": [
    "data.columns"
   ]
  },
  {
   "cell_type": "code",
   "execution_count": 5,
   "id": "25670ab9",
   "metadata": {
    "execution": {
     "iopub.execute_input": "2023-03-05T12:52:41.775298Z",
     "iopub.status.busy": "2023-03-05T12:52:41.774847Z",
     "iopub.status.idle": "2023-03-05T12:52:41.823722Z",
     "shell.execute_reply": "2023-03-05T12:52:41.822451Z"
    },
    "papermill": {
     "duration": 0.062102,
     "end_time": "2023-03-05T12:52:41.827312",
     "exception": false,
     "start_time": "2023-03-05T12:52:41.765210",
     "status": "completed"
    },
    "tags": []
   },
   "outputs": [
    {
     "name": "stdout",
     "output_type": "stream",
     "text": [
      "<class 'pandas.core.frame.DataFrame'>\n",
      "RangeIndex: 61878 entries, 0 to 61877\n",
      "Data columns (total 95 columns):\n",
      " #   Column   Non-Null Count  Dtype \n",
      "---  ------   --------------  ----- \n",
      " 0   id       61878 non-null  int64 \n",
      " 1   feat_1   61878 non-null  int64 \n",
      " 2   feat_2   61878 non-null  int64 \n",
      " 3   feat_3   61878 non-null  int64 \n",
      " 4   feat_4   61878 non-null  int64 \n",
      " 5   feat_5   61878 non-null  int64 \n",
      " 6   feat_6   61878 non-null  int64 \n",
      " 7   feat_7   61878 non-null  int64 \n",
      " 8   feat_8   61878 non-null  int64 \n",
      " 9   feat_9   61878 non-null  int64 \n",
      " 10  feat_10  61878 non-null  int64 \n",
      " 11  feat_11  61878 non-null  int64 \n",
      " 12  feat_12  61878 non-null  int64 \n",
      " 13  feat_13  61878 non-null  int64 \n",
      " 14  feat_14  61878 non-null  int64 \n",
      " 15  feat_15  61878 non-null  int64 \n",
      " 16  feat_16  61878 non-null  int64 \n",
      " 17  feat_17  61878 non-null  int64 \n",
      " 18  feat_18  61878 non-null  int64 \n",
      " 19  feat_19  61878 non-null  int64 \n",
      " 20  feat_20  61878 non-null  int64 \n",
      " 21  feat_21  61878 non-null  int64 \n",
      " 22  feat_22  61878 non-null  int64 \n",
      " 23  feat_23  61878 non-null  int64 \n",
      " 24  feat_24  61878 non-null  int64 \n",
      " 25  feat_25  61878 non-null  int64 \n",
      " 26  feat_26  61878 non-null  int64 \n",
      " 27  feat_27  61878 non-null  int64 \n",
      " 28  feat_28  61878 non-null  int64 \n",
      " 29  feat_29  61878 non-null  int64 \n",
      " 30  feat_30  61878 non-null  int64 \n",
      " 31  feat_31  61878 non-null  int64 \n",
      " 32  feat_32  61878 non-null  int64 \n",
      " 33  feat_33  61878 non-null  int64 \n",
      " 34  feat_34  61878 non-null  int64 \n",
      " 35  feat_35  61878 non-null  int64 \n",
      " 36  feat_36  61878 non-null  int64 \n",
      " 37  feat_37  61878 non-null  int64 \n",
      " 38  feat_38  61878 non-null  int64 \n",
      " 39  feat_39  61878 non-null  int64 \n",
      " 40  feat_40  61878 non-null  int64 \n",
      " 41  feat_41  61878 non-null  int64 \n",
      " 42  feat_42  61878 non-null  int64 \n",
      " 43  feat_43  61878 non-null  int64 \n",
      " 44  feat_44  61878 non-null  int64 \n",
      " 45  feat_45  61878 non-null  int64 \n",
      " 46  feat_46  61878 non-null  int64 \n",
      " 47  feat_47  61878 non-null  int64 \n",
      " 48  feat_48  61878 non-null  int64 \n",
      " 49  feat_49  61878 non-null  int64 \n",
      " 50  feat_50  61878 non-null  int64 \n",
      " 51  feat_51  61878 non-null  int64 \n",
      " 52  feat_52  61878 non-null  int64 \n",
      " 53  feat_53  61878 non-null  int64 \n",
      " 54  feat_54  61878 non-null  int64 \n",
      " 55  feat_55  61878 non-null  int64 \n",
      " 56  feat_56  61878 non-null  int64 \n",
      " 57  feat_57  61878 non-null  int64 \n",
      " 58  feat_58  61878 non-null  int64 \n",
      " 59  feat_59  61878 non-null  int64 \n",
      " 60  feat_60  61878 non-null  int64 \n",
      " 61  feat_61  61878 non-null  int64 \n",
      " 62  feat_62  61878 non-null  int64 \n",
      " 63  feat_63  61878 non-null  int64 \n",
      " 64  feat_64  61878 non-null  int64 \n",
      " 65  feat_65  61878 non-null  int64 \n",
      " 66  feat_66  61878 non-null  int64 \n",
      " 67  feat_67  61878 non-null  int64 \n",
      " 68  feat_68  61878 non-null  int64 \n",
      " 69  feat_69  61878 non-null  int64 \n",
      " 70  feat_70  61878 non-null  int64 \n",
      " 71  feat_71  61878 non-null  int64 \n",
      " 72  feat_72  61878 non-null  int64 \n",
      " 73  feat_73  61878 non-null  int64 \n",
      " 74  feat_74  61878 non-null  int64 \n",
      " 75  feat_75  61878 non-null  int64 \n",
      " 76  feat_76  61878 non-null  int64 \n",
      " 77  feat_77  61878 non-null  int64 \n",
      " 78  feat_78  61878 non-null  int64 \n",
      " 79  feat_79  61878 non-null  int64 \n",
      " 80  feat_80  61878 non-null  int64 \n",
      " 81  feat_81  61878 non-null  int64 \n",
      " 82  feat_82  61878 non-null  int64 \n",
      " 83  feat_83  61878 non-null  int64 \n",
      " 84  feat_84  61878 non-null  int64 \n",
      " 85  feat_85  61878 non-null  int64 \n",
      " 86  feat_86  61878 non-null  int64 \n",
      " 87  feat_87  61878 non-null  int64 \n",
      " 88  feat_88  61878 non-null  int64 \n",
      " 89  feat_89  61878 non-null  int64 \n",
      " 90  feat_90  61878 non-null  int64 \n",
      " 91  feat_91  61878 non-null  int64 \n",
      " 92  feat_92  61878 non-null  int64 \n",
      " 93  feat_93  61878 non-null  int64 \n",
      " 94  target   61878 non-null  object\n",
      "dtypes: int64(94), object(1)\n",
      "memory usage: 44.8+ MB\n"
     ]
    }
   ],
   "source": [
    "data.info()"
   ]
  },
  {
   "cell_type": "code",
   "execution_count": 6,
   "id": "e84767be",
   "metadata": {
    "execution": {
     "iopub.execute_input": "2023-03-05T12:52:41.849701Z",
     "iopub.status.busy": "2023-03-05T12:52:41.847796Z",
     "iopub.status.idle": "2023-03-05T12:52:41.872272Z",
     "shell.execute_reply": "2023-03-05T12:52:41.870316Z"
    },
    "papermill": {
     "duration": 0.039021,
     "end_time": "2023-03-05T12:52:41.875424",
     "exception": false,
     "start_time": "2023-03-05T12:52:41.836403",
     "status": "completed"
    },
    "tags": []
   },
   "outputs": [
    {
     "name": "stdout",
     "output_type": "stream",
     "text": [
      "Series([], dtype: int64)\n"
     ]
    }
   ],
   "source": [
    "nulldata = data.isnull().sum()\n",
    "print(nulldata[nulldata>0])"
   ]
  },
  {
   "cell_type": "code",
   "execution_count": 7,
   "id": "b0d33ff6",
   "metadata": {
    "execution": {
     "iopub.execute_input": "2023-03-05T12:52:41.896806Z",
     "iopub.status.busy": "2023-03-05T12:52:41.896351Z",
     "iopub.status.idle": "2023-03-05T12:52:41.911587Z",
     "shell.execute_reply": "2023-03-05T12:52:41.910361Z"
    },
    "papermill": {
     "duration": 0.029551,
     "end_time": "2023-03-05T12:52:41.914720",
     "exception": false,
     "start_time": "2023-03-05T12:52:41.885169",
     "status": "completed"
    },
    "tags": []
   },
   "outputs": [
    {
     "data": {
      "text/plain": [
       "Class_2    16122\n",
       "Class_6    14135\n",
       "Class_8     8464\n",
       "Class_3     8004\n",
       "Class_9     4955\n",
       "Class_7     2839\n",
       "Class_5     2739\n",
       "Class_4     2691\n",
       "Class_1     1929\n",
       "Name: target, dtype: int64"
      ]
     },
     "execution_count": 7,
     "metadata": {},
     "output_type": "execute_result"
    }
   ],
   "source": [
    "data.target.value_counts()"
   ]
  },
  {
   "attachments": {},
   "cell_type": "markdown",
   "id": "4ad40cd1",
   "metadata": {},
   "source": [
    "#### Separating dependent and independent variables"
   ]
  },
  {
   "cell_type": "code",
   "execution_count": 8,
   "id": "1acf7a64",
   "metadata": {
    "execution": {
     "iopub.execute_input": "2023-03-05T12:52:41.939377Z",
     "iopub.status.busy": "2023-03-05T12:52:41.937603Z",
     "iopub.status.idle": "2023-03-05T12:52:41.972064Z",
     "shell.execute_reply": "2023-03-05T12:52:41.970618Z"
    },
    "papermill": {
     "duration": 0.050224,
     "end_time": "2023-03-05T12:52:41.975646",
     "exception": false,
     "start_time": "2023-03-05T12:52:41.925422",
     "status": "completed"
    },
    "tags": []
   },
   "outputs": [],
   "source": [
    "x = data.drop('target',axis=1)\n",
    "y = data[['target']]"
   ]
  },
  {
   "attachments": {},
   "cell_type": "markdown",
   "id": "e79c48ad",
   "metadata": {},
   "source": [
    "#### Splitting the training data and validation data"
   ]
  },
  {
   "cell_type": "code",
   "execution_count": 9,
   "id": "97ef2b7f",
   "metadata": {
    "execution": {
     "iopub.execute_input": "2023-03-05T12:52:41.996642Z",
     "iopub.status.busy": "2023-03-05T12:52:41.996182Z",
     "iopub.status.idle": "2023-03-05T12:52:42.340350Z",
     "shell.execute_reply": "2023-03-05T12:52:42.338849Z"
    },
    "papermill": {
     "duration": 0.358913,
     "end_time": "2023-03-05T12:52:42.343461",
     "exception": false,
     "start_time": "2023-03-05T12:52:41.984548",
     "status": "completed"
    },
    "tags": []
   },
   "outputs": [],
   "source": [
    "from sklearn.model_selection import train_test_split\n",
    "x_train,x_valid,y_train,y_valid = train_test_split(x,y,test_size=0.2)"
   ]
  },
  {
   "attachments": {},
   "cell_type": "markdown",
   "id": "bfe1dd60",
   "metadata": {},
   "source": [
    "#### Standardization "
   ]
  },
  {
   "cell_type": "code",
   "execution_count": 10,
   "id": "a81c791c",
   "metadata": {
    "execution": {
     "iopub.execute_input": "2023-03-05T12:52:42.362238Z",
     "iopub.status.busy": "2023-03-05T12:52:42.361758Z",
     "iopub.status.idle": "2023-03-05T12:52:42.484195Z",
     "shell.execute_reply": "2023-03-05T12:52:42.482441Z"
    },
    "papermill": {
     "duration": 0.136224,
     "end_time": "2023-03-05T12:52:42.488104",
     "exception": false,
     "start_time": "2023-03-05T12:52:42.351880",
     "status": "completed"
    },
    "tags": []
   },
   "outputs": [],
   "source": [
    "from sklearn.preprocessing import StandardScaler\n",
    "sc = StandardScaler()\n",
    "x_train = sc.fit_transform(x_train)\n",
    "x_valid = sc.transform(x_valid)"
   ]
  },
  {
   "cell_type": "code",
   "execution_count": 11,
   "id": "a8bac53a",
   "metadata": {
    "execution": {
     "iopub.execute_input": "2023-03-05T12:52:42.507372Z",
     "iopub.status.busy": "2023-03-05T12:52:42.506928Z",
     "iopub.status.idle": "2023-03-05T12:52:42.515837Z",
     "shell.execute_reply": "2023-03-05T12:52:42.514345Z"
    },
    "papermill": {
     "duration": 0.022241,
     "end_time": "2023-03-05T12:52:42.519296",
     "exception": false,
     "start_time": "2023-03-05T12:52:42.497055",
     "status": "completed"
    },
    "tags": []
   },
   "outputs": [
    {
     "data": {
      "text/plain": [
       "(49502, 94)"
      ]
     },
     "execution_count": 11,
     "metadata": {},
     "output_type": "execute_result"
    }
   ],
   "source": [
    "x_train.shape"
   ]
  },
  {
   "cell_type": "code",
   "execution_count": 12,
   "id": "943dd3d1",
   "metadata": {
    "execution": {
     "iopub.execute_input": "2023-03-05T12:52:42.539819Z",
     "iopub.status.busy": "2023-03-05T12:52:42.539381Z",
     "iopub.status.idle": "2023-03-05T12:52:42.547777Z",
     "shell.execute_reply": "2023-03-05T12:52:42.546319Z"
    },
    "papermill": {
     "duration": 0.021847,
     "end_time": "2023-03-05T12:52:42.550493",
     "exception": false,
     "start_time": "2023-03-05T12:52:42.528646",
     "status": "completed"
    },
    "tags": []
   },
   "outputs": [
    {
     "data": {
      "text/plain": [
       "(61878, 95)"
      ]
     },
     "execution_count": 12,
     "metadata": {},
     "output_type": "execute_result"
    }
   ],
   "source": [
    "data.shape"
   ]
  },
  {
   "attachments": {},
   "cell_type": "markdown",
   "id": "79a0ad2f",
   "metadata": {},
   "source": [
    "#### Dimensionality Reduction"
   ]
  },
  {
   "cell_type": "code",
   "execution_count": 13,
   "id": "5af1bbc1",
   "metadata": {
    "execution": {
     "iopub.execute_input": "2023-03-05T12:52:42.571061Z",
     "iopub.status.busy": "2023-03-05T12:52:42.570597Z",
     "iopub.status.idle": "2023-03-05T12:52:43.986436Z",
     "shell.execute_reply": "2023-03-05T12:52:43.984481Z"
    },
    "papermill": {
     "duration": 1.431568,
     "end_time": "2023-03-05T12:52:43.991346",
     "exception": false,
     "start_time": "2023-03-05T12:52:42.559778",
     "status": "completed"
    },
    "tags": []
   },
   "outputs": [
    {
     "name": "stderr",
     "output_type": "stream",
     "text": [
      "/opt/conda/lib/python3.7/site-packages/sklearn/utils/validation.py:993: DataConversionWarning: A column-vector y was passed when a 1d array was expected. Please change the shape of y to (n_samples, ), for example using ravel().\n",
      "  y = column_or_1d(y, warn=True)\n"
     ]
    }
   ],
   "source": [
    "from sklearn.discriminant_analysis import LinearDiscriminantAnalysis\n",
    "lda = LinearDiscriminantAnalysis()\n",
    "x_train = lda.fit_transform(x_train,y_train)\n",
    "x_valid = lda.transform(x_valid)"
   ]
  },
  {
   "cell_type": "code",
   "execution_count": 14,
   "id": "5449e431",
   "metadata": {
    "execution": {
     "iopub.execute_input": "2023-03-05T12:52:44.044530Z",
     "iopub.status.busy": "2023-03-05T12:52:44.043757Z",
     "iopub.status.idle": "2023-03-05T12:52:44.054404Z",
     "shell.execute_reply": "2023-03-05T12:52:44.053056Z"
    },
    "papermill": {
     "duration": 0.040717,
     "end_time": "2023-03-05T12:52:44.059293",
     "exception": false,
     "start_time": "2023-03-05T12:52:44.018576",
     "status": "completed"
    },
    "tags": []
   },
   "outputs": [
    {
     "data": {
      "text/plain": [
       "(49502, 8)"
      ]
     },
     "execution_count": 14,
     "metadata": {},
     "output_type": "execute_result"
    }
   ],
   "source": [
    "x_train.shape"
   ]
  },
  {
   "attachments": {},
   "cell_type": "markdown",
   "id": "c7871549",
   "metadata": {},
   "source": [
    "#### Sorting Index"
   ]
  },
  {
   "cell_type": "code",
   "execution_count": 15,
   "id": "72e61b43",
   "metadata": {
    "execution": {
     "iopub.execute_input": "2023-03-05T12:52:44.107682Z",
     "iopub.status.busy": "2023-03-05T12:52:44.107246Z",
     "iopub.status.idle": "2023-03-05T12:52:44.132523Z",
     "shell.execute_reply": "2023-03-05T12:52:44.131031Z"
    },
    "papermill": {
     "duration": 0.052858,
     "end_time": "2023-03-05T12:52:44.135427",
     "exception": false,
     "start_time": "2023-03-05T12:52:44.082569",
     "status": "completed"
    },
    "tags": []
   },
   "outputs": [
    {
     "data": {
      "text/plain": [
       "MultiIndex([('Class_1',),\n",
       "            ('Class_2',),\n",
       "            ('Class_3',),\n",
       "            ('Class_4',),\n",
       "            ('Class_5',),\n",
       "            ('Class_6',),\n",
       "            ('Class_7',),\n",
       "            ('Class_8',),\n",
       "            ('Class_9',)],\n",
       "           names=['target'])"
      ]
     },
     "execution_count": 15,
     "metadata": {},
     "output_type": "execute_result"
    }
   ],
   "source": [
    "a = pd.DataFrame(y_train.value_counts())\n",
    "b = a.sort_index(axis=0)\n",
    "b.index"
   ]
  },
  {
   "attachments": {},
   "cell_type": "markdown",
   "id": "294255d7",
   "metadata": {},
   "source": [
    "#### One Hot Encoding of the dependent variable"
   ]
  },
  {
   "cell_type": "code",
   "execution_count": 16,
   "id": "5328c717",
   "metadata": {
    "execution": {
     "iopub.execute_input": "2023-03-05T12:52:44.157042Z",
     "iopub.status.busy": "2023-03-05T12:52:44.155809Z",
     "iopub.status.idle": "2023-03-05T12:52:44.187673Z",
     "shell.execute_reply": "2023-03-05T12:52:44.186365Z"
    },
    "papermill": {
     "duration": 0.04619,
     "end_time": "2023-03-05T12:52:44.190683",
     "exception": false,
     "start_time": "2023-03-05T12:52:44.144493",
     "status": "completed"
    },
    "tags": []
   },
   "outputs": [],
   "source": [
    "from sklearn.preprocessing import OneHotEncoder\n",
    "OHE = OneHotEncoder(handle_unknown='ignore',sparse=False)\n",
    "y_train = pd.DataFrame(OHE.fit_transform(y_train),columns = b.index)\n",
    "y_valid = pd.DataFrame(OHE.transform(y_valid),columns = b.index)"
   ]
  },
  {
   "cell_type": "code",
   "execution_count": 17,
   "id": "a3c2ddb9",
   "metadata": {
    "execution": {
     "iopub.execute_input": "2023-03-05T12:52:44.210879Z",
     "iopub.status.busy": "2023-03-05T12:52:44.210453Z",
     "iopub.status.idle": "2023-03-05T12:52:44.232382Z",
     "shell.execute_reply": "2023-03-05T12:52:44.231018Z"
    },
    "papermill": {
     "duration": 0.035516,
     "end_time": "2023-03-05T12:52:44.235555",
     "exception": false,
     "start_time": "2023-03-05T12:52:44.200039",
     "status": "completed"
    },
    "tags": []
   },
   "outputs": [
    {
     "data": {
      "text/html": [
       "<div>\n",
       "<style scoped>\n",
       "    .dataframe tbody tr th:only-of-type {\n",
       "        vertical-align: middle;\n",
       "    }\n",
       "\n",
       "    .dataframe tbody tr th {\n",
       "        vertical-align: top;\n",
       "    }\n",
       "\n",
       "    .dataframe thead tr th {\n",
       "        text-align: left;\n",
       "    }\n",
       "</style>\n",
       "<table border=\"1\" class=\"dataframe\">\n",
       "  <thead>\n",
       "    <tr>\n",
       "      <th>target</th>\n",
       "      <th>Class_1</th>\n",
       "      <th>Class_2</th>\n",
       "      <th>Class_3</th>\n",
       "      <th>Class_4</th>\n",
       "      <th>Class_5</th>\n",
       "      <th>Class_6</th>\n",
       "      <th>Class_7</th>\n",
       "      <th>Class_8</th>\n",
       "      <th>Class_9</th>\n",
       "    </tr>\n",
       "  </thead>\n",
       "  <tbody>\n",
       "    <tr>\n",
       "      <th>0</th>\n",
       "      <td>0.0</td>\n",
       "      <td>0.0</td>\n",
       "      <td>0.0</td>\n",
       "      <td>0.0</td>\n",
       "      <td>0.0</td>\n",
       "      <td>0.0</td>\n",
       "      <td>0.0</td>\n",
       "      <td>1.0</td>\n",
       "      <td>0.0</td>\n",
       "    </tr>\n",
       "    <tr>\n",
       "      <th>1</th>\n",
       "      <td>0.0</td>\n",
       "      <td>1.0</td>\n",
       "      <td>0.0</td>\n",
       "      <td>0.0</td>\n",
       "      <td>0.0</td>\n",
       "      <td>0.0</td>\n",
       "      <td>0.0</td>\n",
       "      <td>0.0</td>\n",
       "      <td>0.0</td>\n",
       "    </tr>\n",
       "    <tr>\n",
       "      <th>2</th>\n",
       "      <td>0.0</td>\n",
       "      <td>0.0</td>\n",
       "      <td>1.0</td>\n",
       "      <td>0.0</td>\n",
       "      <td>0.0</td>\n",
       "      <td>0.0</td>\n",
       "      <td>0.0</td>\n",
       "      <td>0.0</td>\n",
       "      <td>0.0</td>\n",
       "    </tr>\n",
       "    <tr>\n",
       "      <th>3</th>\n",
       "      <td>0.0</td>\n",
       "      <td>0.0</td>\n",
       "      <td>0.0</td>\n",
       "      <td>0.0</td>\n",
       "      <td>0.0</td>\n",
       "      <td>0.0</td>\n",
       "      <td>0.0</td>\n",
       "      <td>1.0</td>\n",
       "      <td>0.0</td>\n",
       "    </tr>\n",
       "    <tr>\n",
       "      <th>4</th>\n",
       "      <td>0.0</td>\n",
       "      <td>1.0</td>\n",
       "      <td>0.0</td>\n",
       "      <td>0.0</td>\n",
       "      <td>0.0</td>\n",
       "      <td>0.0</td>\n",
       "      <td>0.0</td>\n",
       "      <td>0.0</td>\n",
       "      <td>0.0</td>\n",
       "    </tr>\n",
       "  </tbody>\n",
       "</table>\n",
       "</div>"
      ],
      "text/plain": [
       "target Class_1 Class_2 Class_3 Class_4 Class_5 Class_6 Class_7 Class_8 Class_9\n",
       "0          0.0     0.0     0.0     0.0     0.0     0.0     0.0     1.0     0.0\n",
       "1          0.0     1.0     0.0     0.0     0.0     0.0     0.0     0.0     0.0\n",
       "2          0.0     0.0     1.0     0.0     0.0     0.0     0.0     0.0     0.0\n",
       "3          0.0     0.0     0.0     0.0     0.0     0.0     0.0     1.0     0.0\n",
       "4          0.0     1.0     0.0     0.0     0.0     0.0     0.0     0.0     0.0"
      ]
     },
     "execution_count": 17,
     "metadata": {},
     "output_type": "execute_result"
    }
   ],
   "source": [
    "y_valid.head()"
   ]
  },
  {
   "attachments": {},
   "cell_type": "markdown",
   "id": "7b5b15c5",
   "metadata": {},
   "source": [
    "#### XG Boost Classifier"
   ]
  },
  {
   "cell_type": "code",
   "execution_count": 18,
   "id": "10d72816",
   "metadata": {
    "execution": {
     "iopub.execute_input": "2023-03-05T12:52:44.256742Z",
     "iopub.status.busy": "2023-03-05T12:52:44.256323Z",
     "iopub.status.idle": "2023-03-05T12:52:44.366877Z",
     "shell.execute_reply": "2023-03-05T12:52:44.365368Z"
    },
    "papermill": {
     "duration": 0.124917,
     "end_time": "2023-03-05T12:52:44.369953",
     "exception": false,
     "start_time": "2023-03-05T12:52:44.245036",
     "status": "completed"
    },
    "tags": []
   },
   "outputs": [],
   "source": [
    "from xgboost import XGBClassifier"
   ]
  },
  {
   "cell_type": "code",
   "execution_count": 19,
   "id": "b5e93bc8",
   "metadata": {
    "execution": {
     "iopub.execute_input": "2023-03-05T12:52:44.390439Z",
     "iopub.status.busy": "2023-03-05T12:52:44.389960Z",
     "iopub.status.idle": "2023-03-05T12:53:12.778914Z",
     "shell.execute_reply": "2023-03-05T12:53:12.777697Z"
    },
    "papermill": {
     "duration": 28.403602,
     "end_time": "2023-03-05T12:53:12.782676",
     "exception": false,
     "start_time": "2023-03-05T12:52:44.379074",
     "status": "completed"
    },
    "tags": []
   },
   "outputs": [],
   "source": [
    "my_model = XGBClassifier()\n",
    "my_model.fit(x_train,y_train)\n",
    "y_pred = my_model.predict(x_valid)"
   ]
  },
  {
   "attachments": {},
   "cell_type": "markdown",
   "id": "06fa73a8",
   "metadata": {},
   "source": [
    "#### Verifying Metrics"
   ]
  },
  {
   "cell_type": "code",
   "execution_count": 20,
   "id": "ac752e98",
   "metadata": {
    "execution": {
     "iopub.execute_input": "2023-03-05T12:53:12.807253Z",
     "iopub.status.busy": "2023-03-05T12:53:12.805964Z",
     "iopub.status.idle": "2023-03-05T12:53:12.812731Z",
     "shell.execute_reply": "2023-03-05T12:53:12.811493Z"
    },
    "papermill": {
     "duration": 0.021141,
     "end_time": "2023-03-05T12:53:12.815369",
     "exception": false,
     "start_time": "2023-03-05T12:53:12.794228",
     "status": "completed"
    },
    "tags": []
   },
   "outputs": [],
   "source": [
    "from sklearn.metrics import accuracy_score, confusion_matrix,classification_report\n",
    "from sklearn.metrics import f1_score,precision_score,recall_score"
   ]
  },
  {
   "cell_type": "code",
   "execution_count": 21,
   "id": "028bcd3f",
   "metadata": {
    "execution": {
     "iopub.execute_input": "2023-03-05T12:53:12.840170Z",
     "iopub.status.busy": "2023-03-05T12:53:12.838718Z",
     "iopub.status.idle": "2023-03-05T12:53:12.992491Z",
     "shell.execute_reply": "2023-03-05T12:53:12.990872Z"
    },
    "papermill": {
     "duration": 0.170461,
     "end_time": "2023-03-05T12:53:12.996081",
     "exception": false,
     "start_time": "2023-03-05T12:53:12.825620",
     "status": "completed"
    },
    "tags": []
   },
   "outputs": [
    {
     "name": "stdout",
     "output_type": "stream",
     "text": [
      "Accuracy :  0.989414996767938\n",
      "\n",
      "classification report : \n",
      "               precision    recall  f1-score   support\n",
      "\n",
      "           0       0.99      1.00      0.99       388\n",
      "           1       1.00      0.99      0.99      3152\n",
      "           2       0.98      0.99      0.98      1647\n",
      "           3       0.97      0.97      0.97       541\n",
      "           4       1.00      0.99      1.00       539\n",
      "           5       1.00      0.99      1.00      2775\n",
      "           6       0.98      0.98      0.98       603\n",
      "           7       0.99      1.00      0.99      1685\n",
      "           8       1.00      0.99      1.00      1046\n",
      "\n",
      "   micro avg       0.99      0.99      0.99     12376\n",
      "   macro avg       0.99      0.99      0.99     12376\n",
      "weighted avg       0.99      0.99      0.99     12376\n",
      " samples avg       0.99      0.99      0.99     12376\n",
      "\n",
      "\n",
      "f1 score : \n",
      " [0.99485861 0.99491902 0.98427102 0.96952909 0.99628253 0.99602888\n",
      " 0.97840532 0.99318922 0.99520614]\n",
      "\n",
      "precision_score : \n",
      " [0.99230769 0.99586777 0.98071127 0.96863469 0.9981378  0.99783002\n",
      " 0.98003328 0.99113475 0.99807692]\n",
      "\n",
      "recall_score : \n",
      " [0.99742268 0.99397208 0.98785671 0.97042514 0.99443414 0.99423423\n",
      " 0.97678275 0.99525223 0.99235182]\n"
     ]
    },
    {
     "name": "stderr",
     "output_type": "stream",
     "text": [
      "/opt/conda/lib/python3.7/site-packages/sklearn/metrics/_classification.py:1318: UndefinedMetricWarning: Precision and F-score are ill-defined and being set to 0.0 in samples with no predicted labels. Use `zero_division` parameter to control this behavior.\n",
      "  _warn_prf(average, modifier, msg_start, len(result))\n"
     ]
    }
   ],
   "source": [
    "print('Accuracy : ',accuracy_score(y_valid,y_pred))\n",
    "print('\\nclassification report : \\n',classification_report(y_valid,y_pred))\n",
    "print('\\nf1 score : \\n',f1_score(y_valid,y_pred,average=None))\n",
    "print('\\nprecision_score : \\n',precision_score(y_valid,y_pred,average=None))\n",
    "print('\\nrecall_score : \\n',recall_score(y_valid,y_pred,average=None))\n"
   ]
  },
  {
   "attachments": {},
   "cell_type": "markdown",
   "id": "9aea0368",
   "metadata": {},
   "source": [
    "#### Implementing the model to the test data "
   ]
  },
  {
   "cell_type": "code",
   "execution_count": 22,
   "id": "4700dc8f",
   "metadata": {
    "execution": {
     "iopub.execute_input": "2023-03-05T12:53:13.017592Z",
     "iopub.status.busy": "2023-03-05T12:53:13.016421Z",
     "iopub.status.idle": "2023-03-05T12:53:14.633116Z",
     "shell.execute_reply": "2023-03-05T12:53:14.630655Z"
    },
    "papermill": {
     "duration": 1.633388,
     "end_time": "2023-03-05T12:53:14.638821",
     "exception": false,
     "start_time": "2023-03-05T12:53:13.005433",
     "status": "completed"
    },
    "tags": []
   },
   "outputs": [],
   "source": [
    "x_test = pd.read_csv('/kaggle/input/otto-group-product-classification-challenge/test.csv')\n",
    "x_test = sc.transform(x_test)\n",
    "x_test = lda.transform(x_test)"
   ]
  },
  {
   "cell_type": "code",
   "execution_count": 23,
   "id": "902ded68",
   "metadata": {
    "execution": {
     "iopub.execute_input": "2023-03-05T12:53:14.690824Z",
     "iopub.status.busy": "2023-03-05T12:53:14.689973Z",
     "iopub.status.idle": "2023-03-05T12:53:14.775747Z",
     "shell.execute_reply": "2023-03-05T12:53:14.774639Z"
    },
    "papermill": {
     "duration": 0.115572,
     "end_time": "2023-03-05T12:53:14.778510",
     "exception": false,
     "start_time": "2023-03-05T12:53:14.662938",
     "status": "completed"
    },
    "tags": []
   },
   "outputs": [],
   "source": [
    "x_test = pd.DataFrame(x_test)\n",
    "l = list(x_test.index)\n",
    "indexlist = pd.DataFrame(l,columns = ['id'])"
   ]
  },
  {
   "cell_type": "code",
   "execution_count": 24,
   "id": "d397f3ea",
   "metadata": {
    "execution": {
     "iopub.execute_input": "2023-03-05T12:53:14.800326Z",
     "iopub.status.busy": "2023-03-05T12:53:14.799803Z",
     "iopub.status.idle": "2023-03-05T12:53:14.805700Z",
     "shell.execute_reply": "2023-03-05T12:53:14.804280Z"
    },
    "papermill": {
     "duration": 0.020613,
     "end_time": "2023-03-05T12:53:14.808407",
     "exception": false,
     "start_time": "2023-03-05T12:53:14.787794",
     "status": "completed"
    },
    "tags": []
   },
   "outputs": [],
   "source": [
    "ind = ['Class_1','Class_2','Class_3','Class_4','Class_5','Class_6','Class_7','Class_8','Class_9']"
   ]
  },
  {
   "attachments": {},
   "cell_type": "markdown",
   "id": "4e7503b4",
   "metadata": {},
   "source": [
    "#### Predicting the test data"
   ]
  },
  {
   "cell_type": "code",
   "execution_count": 25,
   "id": "2fbdbdc3",
   "metadata": {
    "execution": {
     "iopub.execute_input": "2023-03-05T12:53:14.831173Z",
     "iopub.status.busy": "2023-03-05T12:53:14.830715Z",
     "iopub.status.idle": "2023-03-05T12:53:15.697882Z",
     "shell.execute_reply": "2023-03-05T12:53:15.696825Z"
    },
    "papermill": {
     "duration": 0.882389,
     "end_time": "2023-03-05T12:53:15.700787",
     "exception": false,
     "start_time": "2023-03-05T12:53:14.818398",
     "status": "completed"
    },
    "tags": []
   },
   "outputs": [],
   "source": [
    "predictions = pd.DataFrame(my_model.predict(x_test),columns = ind)"
   ]
  },
  {
   "cell_type": "code",
   "execution_count": 26,
   "id": "7e6a8794",
   "metadata": {
    "execution": {
     "iopub.execute_input": "2023-03-05T12:53:15.721720Z",
     "iopub.status.busy": "2023-03-05T12:53:15.720903Z",
     "iopub.status.idle": "2023-03-05T12:53:15.740465Z",
     "shell.execute_reply": "2023-03-05T12:53:15.739046Z"
    },
    "papermill": {
     "duration": 0.033185,
     "end_time": "2023-03-05T12:53:15.743263",
     "exception": false,
     "start_time": "2023-03-05T12:53:15.710078",
     "status": "completed"
    },
    "tags": []
   },
   "outputs": [
    {
     "data": {
      "text/html": [
       "<div>\n",
       "<style scoped>\n",
       "    .dataframe tbody tr th:only-of-type {\n",
       "        vertical-align: middle;\n",
       "    }\n",
       "\n",
       "    .dataframe tbody tr th {\n",
       "        vertical-align: top;\n",
       "    }\n",
       "\n",
       "    .dataframe thead th {\n",
       "        text-align: right;\n",
       "    }\n",
       "</style>\n",
       "<table border=\"1\" class=\"dataframe\">\n",
       "  <thead>\n",
       "    <tr style=\"text-align: right;\">\n",
       "      <th></th>\n",
       "      <th>Class_1</th>\n",
       "      <th>Class_2</th>\n",
       "      <th>Class_3</th>\n",
       "      <th>Class_4</th>\n",
       "      <th>Class_5</th>\n",
       "      <th>Class_6</th>\n",
       "      <th>Class_7</th>\n",
       "      <th>Class_8</th>\n",
       "      <th>Class_9</th>\n",
       "    </tr>\n",
       "  </thead>\n",
       "  <tbody>\n",
       "    <tr>\n",
       "      <th>0</th>\n",
       "      <td>0.0</td>\n",
       "      <td>1.0</td>\n",
       "      <td>0.0</td>\n",
       "      <td>0.0</td>\n",
       "      <td>0.0</td>\n",
       "      <td>0.0</td>\n",
       "      <td>0.0</td>\n",
       "      <td>0.0</td>\n",
       "      <td>0.0</td>\n",
       "    </tr>\n",
       "    <tr>\n",
       "      <th>1</th>\n",
       "      <td>1.0</td>\n",
       "      <td>0.0</td>\n",
       "      <td>0.0</td>\n",
       "      <td>0.0</td>\n",
       "      <td>0.0</td>\n",
       "      <td>0.0</td>\n",
       "      <td>0.0</td>\n",
       "      <td>0.0</td>\n",
       "      <td>0.0</td>\n",
       "    </tr>\n",
       "    <tr>\n",
       "      <th>2</th>\n",
       "      <td>1.0</td>\n",
       "      <td>0.0</td>\n",
       "      <td>0.0</td>\n",
       "      <td>0.0</td>\n",
       "      <td>0.0</td>\n",
       "      <td>0.0</td>\n",
       "      <td>0.0</td>\n",
       "      <td>0.0</td>\n",
       "      <td>0.0</td>\n",
       "    </tr>\n",
       "    <tr>\n",
       "      <th>3</th>\n",
       "      <td>0.0</td>\n",
       "      <td>1.0</td>\n",
       "      <td>0.0</td>\n",
       "      <td>0.0</td>\n",
       "      <td>0.0</td>\n",
       "      <td>0.0</td>\n",
       "      <td>0.0</td>\n",
       "      <td>0.0</td>\n",
       "      <td>0.0</td>\n",
       "    </tr>\n",
       "    <tr>\n",
       "      <th>4</th>\n",
       "      <td>1.0</td>\n",
       "      <td>0.0</td>\n",
       "      <td>0.0</td>\n",
       "      <td>0.0</td>\n",
       "      <td>0.0</td>\n",
       "      <td>0.0</td>\n",
       "      <td>0.0</td>\n",
       "      <td>0.0</td>\n",
       "      <td>0.0</td>\n",
       "    </tr>\n",
       "  </tbody>\n",
       "</table>\n",
       "</div>"
      ],
      "text/plain": [
       "   Class_1  Class_2  Class_3  Class_4  Class_5  Class_6  Class_7  Class_8  \\\n",
       "0      0.0      1.0      0.0      0.0      0.0      0.0      0.0      0.0   \n",
       "1      1.0      0.0      0.0      0.0      0.0      0.0      0.0      0.0   \n",
       "2      1.0      0.0      0.0      0.0      0.0      0.0      0.0      0.0   \n",
       "3      0.0      1.0      0.0      0.0      0.0      0.0      0.0      0.0   \n",
       "4      1.0      0.0      0.0      0.0      0.0      0.0      0.0      0.0   \n",
       "\n",
       "   Class_9  \n",
       "0      0.0  \n",
       "1      0.0  \n",
       "2      0.0  \n",
       "3      0.0  \n",
       "4      0.0  "
      ]
     },
     "execution_count": 26,
     "metadata": {},
     "output_type": "execute_result"
    }
   ],
   "source": [
    "predictions.head()"
   ]
  },
  {
   "cell_type": "code",
   "execution_count": 27,
   "id": "ddee86a3",
   "metadata": {
    "execution": {
     "iopub.execute_input": "2023-03-05T12:53:15.764341Z",
     "iopub.status.busy": "2023-03-05T12:53:15.763901Z",
     "iopub.status.idle": "2023-03-05T12:53:15.920224Z",
     "shell.execute_reply": "2023-03-05T12:53:15.918566Z"
    },
    "papermill": {
     "duration": 0.170834,
     "end_time": "2023-03-05T12:53:15.923351",
     "exception": false,
     "start_time": "2023-03-05T12:53:15.752517",
     "status": "completed"
    },
    "tags": []
   },
   "outputs": [
    {
     "data": {
      "text/html": [
       "<div>\n",
       "<style scoped>\n",
       "    .dataframe tbody tr th:only-of-type {\n",
       "        vertical-align: middle;\n",
       "    }\n",
       "\n",
       "    .dataframe tbody tr th {\n",
       "        vertical-align: top;\n",
       "    }\n",
       "\n",
       "    .dataframe thead th {\n",
       "        text-align: right;\n",
       "    }\n",
       "</style>\n",
       "<table border=\"1\" class=\"dataframe\">\n",
       "  <thead>\n",
       "    <tr style=\"text-align: right;\">\n",
       "      <th></th>\n",
       "      <th>id</th>\n",
       "      <th>Class_1</th>\n",
       "      <th>Class_2</th>\n",
       "      <th>Class_3</th>\n",
       "      <th>Class_4</th>\n",
       "      <th>Class_5</th>\n",
       "      <th>Class_6</th>\n",
       "      <th>Class_7</th>\n",
       "      <th>Class_8</th>\n",
       "      <th>Class_9</th>\n",
       "    </tr>\n",
       "  </thead>\n",
       "  <tbody>\n",
       "    <tr>\n",
       "      <th>0</th>\n",
       "      <td>1</td>\n",
       "      <td>1</td>\n",
       "      <td>0</td>\n",
       "      <td>0</td>\n",
       "      <td>0</td>\n",
       "      <td>0</td>\n",
       "      <td>0</td>\n",
       "      <td>0</td>\n",
       "      <td>0</td>\n",
       "      <td>0</td>\n",
       "    </tr>\n",
       "    <tr>\n",
       "      <th>1</th>\n",
       "      <td>2</td>\n",
       "      <td>1</td>\n",
       "      <td>0</td>\n",
       "      <td>0</td>\n",
       "      <td>0</td>\n",
       "      <td>0</td>\n",
       "      <td>0</td>\n",
       "      <td>0</td>\n",
       "      <td>0</td>\n",
       "      <td>0</td>\n",
       "    </tr>\n",
       "    <tr>\n",
       "      <th>2</th>\n",
       "      <td>3</td>\n",
       "      <td>1</td>\n",
       "      <td>0</td>\n",
       "      <td>0</td>\n",
       "      <td>0</td>\n",
       "      <td>0</td>\n",
       "      <td>0</td>\n",
       "      <td>0</td>\n",
       "      <td>0</td>\n",
       "      <td>0</td>\n",
       "    </tr>\n",
       "    <tr>\n",
       "      <th>3</th>\n",
       "      <td>4</td>\n",
       "      <td>1</td>\n",
       "      <td>0</td>\n",
       "      <td>0</td>\n",
       "      <td>0</td>\n",
       "      <td>0</td>\n",
       "      <td>0</td>\n",
       "      <td>0</td>\n",
       "      <td>0</td>\n",
       "      <td>0</td>\n",
       "    </tr>\n",
       "    <tr>\n",
       "      <th>4</th>\n",
       "      <td>5</td>\n",
       "      <td>1</td>\n",
       "      <td>0</td>\n",
       "      <td>0</td>\n",
       "      <td>0</td>\n",
       "      <td>0</td>\n",
       "      <td>0</td>\n",
       "      <td>0</td>\n",
       "      <td>0</td>\n",
       "      <td>0</td>\n",
       "    </tr>\n",
       "  </tbody>\n",
       "</table>\n",
       "</div>"
      ],
      "text/plain": [
       "   id  Class_1  Class_2  Class_3  Class_4  Class_5  Class_6  Class_7  Class_8  \\\n",
       "0   1        1        0        0        0        0        0        0        0   \n",
       "1   2        1        0        0        0        0        0        0        0   \n",
       "2   3        1        0        0        0        0        0        0        0   \n",
       "3   4        1        0        0        0        0        0        0        0   \n",
       "4   5        1        0        0        0        0        0        0        0   \n",
       "\n",
       "   Class_9  \n",
       "0        0  \n",
       "1        0  \n",
       "2        0  \n",
       "3        0  \n",
       "4        0  "
      ]
     },
     "execution_count": 27,
     "metadata": {},
     "output_type": "execute_result"
    }
   ],
   "source": [
    "sample = pd.read_csv('/kaggle/input/otto-group-product-classification-challenge/sampleSubmission.csv')\n",
    "sample.head()"
   ]
  },
  {
   "cell_type": "code",
   "execution_count": 28,
   "id": "f49508cf",
   "metadata": {
    "execution": {
     "iopub.execute_input": "2023-03-05T12:53:15.945654Z",
     "iopub.status.busy": "2023-03-05T12:53:15.944569Z",
     "iopub.status.idle": "2023-03-05T12:53:15.960308Z",
     "shell.execute_reply": "2023-03-05T12:53:15.958985Z"
    },
    "papermill": {
     "duration": 0.02989,
     "end_time": "2023-03-05T12:53:15.963366",
     "exception": false,
     "start_time": "2023-03-05T12:53:15.933476",
     "status": "completed"
    },
    "tags": []
   },
   "outputs": [
    {
     "data": {
      "text/html": [
       "<div>\n",
       "<style scoped>\n",
       "    .dataframe tbody tr th:only-of-type {\n",
       "        vertical-align: middle;\n",
       "    }\n",
       "\n",
       "    .dataframe tbody tr th {\n",
       "        vertical-align: top;\n",
       "    }\n",
       "\n",
       "    .dataframe thead th {\n",
       "        text-align: right;\n",
       "    }\n",
       "</style>\n",
       "<table border=\"1\" class=\"dataframe\">\n",
       "  <thead>\n",
       "    <tr style=\"text-align: right;\">\n",
       "      <th></th>\n",
       "      <th>0</th>\n",
       "      <th>1</th>\n",
       "      <th>2</th>\n",
       "      <th>3</th>\n",
       "      <th>4</th>\n",
       "      <th>5</th>\n",
       "      <th>6</th>\n",
       "      <th>7</th>\n",
       "    </tr>\n",
       "  </thead>\n",
       "  <tbody>\n",
       "    <tr>\n",
       "      <th>0</th>\n",
       "      <td>-9.580837</td>\n",
       "      <td>-0.467278</td>\n",
       "      <td>-0.992099</td>\n",
       "      <td>0.133397</td>\n",
       "      <td>-1.221610</td>\n",
       "      <td>0.324263</td>\n",
       "      <td>1.671230</td>\n",
       "      <td>2.902215</td>\n",
       "    </tr>\n",
       "    <tr>\n",
       "      <th>1</th>\n",
       "      <td>-8.847654</td>\n",
       "      <td>1.354975</td>\n",
       "      <td>-0.165058</td>\n",
       "      <td>1.131874</td>\n",
       "      <td>2.524327</td>\n",
       "      <td>-0.472635</td>\n",
       "      <td>-1.096662</td>\n",
       "      <td>-0.771124</td>\n",
       "    </tr>\n",
       "    <tr>\n",
       "      <th>2</th>\n",
       "      <td>-8.556826</td>\n",
       "      <td>4.511615</td>\n",
       "      <td>1.041851</td>\n",
       "      <td>0.749542</td>\n",
       "      <td>1.865802</td>\n",
       "      <td>-0.234163</td>\n",
       "      <td>-0.401307</td>\n",
       "      <td>-1.031381</td>\n",
       "    </tr>\n",
       "    <tr>\n",
       "      <th>3</th>\n",
       "      <td>-9.510612</td>\n",
       "      <td>-0.807562</td>\n",
       "      <td>-1.101659</td>\n",
       "      <td>-0.975898</td>\n",
       "      <td>0.459598</td>\n",
       "      <td>0.723522</td>\n",
       "      <td>-1.317780</td>\n",
       "      <td>1.453158</td>\n",
       "    </tr>\n",
       "    <tr>\n",
       "      <th>4</th>\n",
       "      <td>-8.720170</td>\n",
       "      <td>-0.265293</td>\n",
       "      <td>-0.023465</td>\n",
       "      <td>-0.039500</td>\n",
       "      <td>3.749187</td>\n",
       "      <td>-1.060294</td>\n",
       "      <td>0.109233</td>\n",
       "      <td>0.482871</td>\n",
       "    </tr>\n",
       "  </tbody>\n",
       "</table>\n",
       "</div>"
      ],
      "text/plain": [
       "          0         1         2         3         4         5         6  \\\n",
       "0 -9.580837 -0.467278 -0.992099  0.133397 -1.221610  0.324263  1.671230   \n",
       "1 -8.847654  1.354975 -0.165058  1.131874  2.524327 -0.472635 -1.096662   \n",
       "2 -8.556826  4.511615  1.041851  0.749542  1.865802 -0.234163 -0.401307   \n",
       "3 -9.510612 -0.807562 -1.101659 -0.975898  0.459598  0.723522 -1.317780   \n",
       "4 -8.720170 -0.265293 -0.023465 -0.039500  3.749187 -1.060294  0.109233   \n",
       "\n",
       "          7  \n",
       "0  2.902215  \n",
       "1 -0.771124  \n",
       "2 -1.031381  \n",
       "3  1.453158  \n",
       "4  0.482871  "
      ]
     },
     "execution_count": 28,
     "metadata": {},
     "output_type": "execute_result"
    }
   ],
   "source": [
    "x_test.head()"
   ]
  },
  {
   "cell_type": "code",
   "execution_count": 29,
   "id": "03d6b8c2",
   "metadata": {
    "execution": {
     "iopub.execute_input": "2023-03-05T12:53:15.986131Z",
     "iopub.status.busy": "2023-03-05T12:53:15.985696Z",
     "iopub.status.idle": "2023-03-05T12:53:16.698639Z",
     "shell.execute_reply": "2023-03-05T12:53:16.697375Z"
    },
    "papermill": {
     "duration": 0.72739,
     "end_time": "2023-03-05T12:53:16.701564",
     "exception": false,
     "start_time": "2023-03-05T12:53:15.974174",
     "status": "completed"
    },
    "tags": []
   },
   "outputs": [],
   "source": [
    "\n",
    "output = pd.concat((indexlist,predictions),axis=1)\n",
    "output.to_csv('submission.csv',index=False,header=1)"
   ]
  },
  {
   "cell_type": "code",
   "execution_count": null,
   "id": "2c235245",
   "metadata": {
    "papermill": {
     "duration": 0.010042,
     "end_time": "2023-03-05T12:53:16.721584",
     "exception": false,
     "start_time": "2023-03-05T12:53:16.711542",
     "status": "completed"
    },
    "tags": []
   },
   "outputs": [],
   "source": []
  }
 ],
 "metadata": {
  "kernelspec": {
   "display_name": "Python 3",
   "language": "python",
   "name": "python3"
  },
  "language_info": {
   "codemirror_mode": {
    "name": "ipython",
    "version": 3
   },
   "file_extension": ".py",
   "mimetype": "text/x-python",
   "name": "python",
   "nbconvert_exporter": "python",
   "pygments_lexer": "ipython3",
   "version": "3.7.12"
  },
  "papermill": {
   "default_parameters": {},
   "duration": 50.901944,
   "end_time": "2023-03-05T12:53:17.656517",
   "environment_variables": {},
   "exception": null,
   "input_path": "__notebook__.ipynb",
   "output_path": "__notebook__.ipynb",
   "parameters": {},
   "start_time": "2023-03-05T12:52:26.754573",
   "version": "2.4.0"
  }
 },
 "nbformat": 4,
 "nbformat_minor": 5
}
